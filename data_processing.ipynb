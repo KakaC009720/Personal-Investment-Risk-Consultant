{
 "cells": [
  {
   "cell_type": "code",
   "execution_count": null,
   "id": "602d734b-dd04-433b-9120-24957b828366",
   "metadata": {},
   "outputs": [],
   "source": [
    "import os\n",
    "from pandas import read_csv\n",
    "import pandas as pd"
   ]
  },
  {
   "cell_type": "raw",
   "id": "4b9d3b00-72ef-46e3-8b53-e51a585d3a09",
   "metadata": {},
   "source": [
    "|\n",
    "|-cust_info\n",
    "|-stock_category\n",
    "|-tock_info\n",
    "|-txn-2019Q1\n",
    "     -2019Q2\n",
    "     -2019Q3\n",
    "     -2019Q4\n",
    "     -2020Q1\n",
    "     -2020Q2\n",
    "     -2020Q3\n",
    "     -2020Q4\n",
    "     -2021Q1"
   ]
  },
  {
   "cell_type": "markdown",
   "id": "e2aae184-b009-45a6-868d-374938c55cc8",
   "metadata": {},
   "source": [
    "# Create Dataframe"
   ]
  },
  {
   "cell_type": "code",
   "execution_count": null,
   "id": "0dd14da2-5a92-4531-a533-ac1e0168076d",
   "metadata": {},
   "outputs": [],
   "source": [
    "df = pd.DataFrame(columns = ['cust_no',\n",
    "                             'age_level', \n",
    "                             'exp_code',\n",
    "                             'source_code',\n",
    "                             '0', '1', '2', '5', '9', 'A','trans_type',\n",
    "                             'c0','c1','c2','c3','c4','c5','c6','current_c',\n",
    "                             'H','O','R','company_type',\n",
    "                             'avg_stock','current_stock',\n",
    "                             'avg_amount','current_amount',\n",
    "                             'label'])"
   ]
  },
  {
   "cell_type": "markdown",
   "id": "ed177b6d-d992-43c4-92c1-11f06b4dd701",
   "metadata": {},
   "source": [
    "# Customer Information"
   ]
  },
  {
   "cell_type": "code",
   "execution_count": null,
   "id": "3c49b3fb-5333-4e48-a2e1-fdd0f6abf4f5",
   "metadata": {},
   "outputs": [],
   "source": [
    "cust_info = 'cust_info/cust_info_1.csv'\n",
    "cust_info_df = read_csv(cust_info)\n"
   ]
  },
  {
   "cell_type": "markdown",
   "id": "8e8e5ae1-0a61-46e4-bbd7-a15c95e37919",
   "metadata": {},
   "source": [
    "# Stock Category"
   ]
  },
  {
   "cell_type": "code",
   "execution_count": null,
   "id": "d5079a7a-dbe9-4c3b-9410-cbba74a92332",
   "metadata": {},
   "outputs": [],
   "source": [
    "stock_cata = 'stock_category/stock_category.csv'\n",
    "stock_cata_df = read_csv(stock_cata, header=None)"
   ]
  },
  {
   "cell_type": "code",
   "execution_count": null,
   "id": "0d42b458-6a63-4b38-86c7-36cc8cd67172",
   "metadata": {},
   "outputs": [],
   "source": [
    "stock_cata_df.head()"
   ]
  },
  {
   "cell_type": "code",
   "execution_count": null,
   "id": "56519a31-adaa-4fcd-a0b0-8bd3d39f8089",
   "metadata": {},
   "outputs": [],
   "source": [
    "company_to_cat = {}\n",
    "\n",
    "cata_0 = ['電子–光電','電子–其他電子','電子–半導體','電子–資訊服務','電子–通信網路','電子–電子通路','電子–電子零組件','電子–電腦及週邊設備']\n",
    "cata_1 = ['化學工業','汽車工業','油電燃氣','建材營建','紡織纖維','造紙工業','塑膠工業','農業科技','電器電纜','電機機械','鋼鐵工業','橡膠工業','水泥工業','玻璃陶瓷']\n",
    "cata_2 = ['金融保險','管理股票']\n",
    "cata_3 = ['生技醫療','食品工業']\n",
    "cata_4 = ['航運業']\n",
    "cata_5 = ['文化創意','存託憑證','其他','貿易百貨','電子商務','觀光事業']\n",
    "\n",
    "for idx, data in stock_cata_df.iterrows():\n",
    "    if data[1] in cata_0:\n",
    "        company_to_cat[data[0]] = 0\n",
    "    elif data[1] in cata_1:\n",
    "        company_to_cat[data[0]] = 1\n",
    "    elif data[1] in cata_2:\n",
    "        company_to_cat[data[0]] = 2\n",
    "    elif data[1] in cata_3:\n",
    "        company_to_cat[data[0]] = 3\n",
    "    elif data[1] in cata_4:\n",
    "        company_to_cat[data[0]] = 4\n",
    "    elif data[1] in cata_5:\n",
    "        company_to_cat[data[0]] = 5\n",
    "    else:\n",
    "        company_to_cat[data[0]] = 6"
   ]
  },
  {
   "cell_type": "code",
   "execution_count": null,
   "id": "af7d880c-e136-4962-8129-6db49ca00035",
   "metadata": {},
   "outputs": [],
   "source": [
    "company_data = pd.DataFrame(list(company_to_cat.items()), columns=['company', 'category'])\n",
    "company_data.to_csv('company_data.csv')"
   ]
  },
  {
   "cell_type": "code",
   "execution_count": null,
   "id": "2b5d08c3-ee5a-4c68-98fd-ca31b4ae48dc",
   "metadata": {},
   "outputs": [],
   "source": [
    "company_data = read_csv('company_data.csv',index_col=0)\n",
    "company_data.head()"
   ]
  },
  {
   "cell_type": "markdown",
   "id": "b9601d9b-8351-47a1-bdb8-fa90ec12b1ba",
   "metadata": {},
   "source": [
    "# Make Data"
   ]
  },
  {
   "cell_type": "code",
   "execution_count": null,
   "id": "4f5a52ce-9fbf-42d9-b215-9ef5189d4084",
   "metadata": {
    "tags": []
   },
   "outputs": [],
   "source": [
    "txn = [f for f in os.listdir('txn') if not f.startswith('.')]\n",
    "temp = []\n",
    "for i, (cust, breach_ind, breach_rank, source_code, age_level, investment_exp_code, breach_date) in enumerate(zip(cust_info_df['cust'],\n",
    "                                                                                                               cust_info_df['breach_ind'], \n",
    "                                                                                                               cust_info_df['breach_rank'],\n",
    "                                                                                                               cust_info_df['source_code'],\n",
    "                                                                                                               cust_info_df['age_level'],\n",
    "                                                                                                               cust_info_df['investment_exp_code'],\n",
    "                                                                                                              cust_info_df['breach_date'])):\n",
    "    \n",
    "    \n",
    "    \n",
    "    # pass the second breach\n",
    "    if breach_ind == 1 and breach_rank == 2.0:\n",
    "        continue\n",
    "        \n",
    "    print(f'{i}/{len(cust_info_df)}',end = '\\r')    \n",
    "    # init for each cust\n",
    "    types = {'0':0, '1':0, '2':0, '5':0, '9':0, 'A':0}\n",
    "    com_types = {0:0, 1:0, 2:0, 3:0, 4:0, 5:0, 6:0}\n",
    "    HOR = {'H':0, 'O':0, 'R':0}\n",
    "    flag = 0\n",
    "    stock = 0\n",
    "    current_stock = 0\n",
    "    amount = 0\n",
    "    current_amount = 0\n",
    "    num = 0\n",
    "    for t in txn:\n",
    "        txn_df = read_csv('txn/'+t, header = None)\n",
    "        # customer filter                                                                                                    \n",
    "        c_txn_df = txn_df.loc[txn_df[1] == cust].reset_index(drop=True)\n",
    "        \n",
    "        \n",
    "        # type of 0 1 2 5 9 A\n",
    "        if c_txn_df.empty:\n",
    "            continue\n",
    "        commission = c_txn_df[5].value_counts()\n",
    "        for type_ in types:\n",
    "            if type_ in commission:\n",
    "                types[type_] = types[type_] + commission[type_]\n",
    "                \n",
    "                \n",
    "        # PAST data\n",
    "        for idx, row in c_txn_df.iterrows():\n",
    "            # amount = price x stock\n",
    "            stock += row[7]\n",
    "            amount += row[6]*row[7]\n",
    "            num += 1\n",
    "            \n",
    "            # company cat one hot\n",
    "            com = row[4]\n",
    "            if com in company_to_cat:\n",
    "                com_types[company_to_cat[com]] = com_types[company_to_cat[com]] + 1\n",
    "            else:\n",
    "                com_types[6] = com_types[6] + 1\n",
    "            \n",
    "            #HOR\n",
    "            hor = row[3]\n",
    "            if hor in HOR:\n",
    "                HOR[hor] = HOR[hor] + 1\n",
    "            else:\n",
    "                pass\n",
    "            \n",
    "            \n",
    "            \n",
    "        # CUREENT transaction type and amount\n",
    "        if breach_ind == 1:\n",
    "           # breach trans filter (need to modify) \n",
    "            cb_txn_df = c_txn_df.loc[c_txn_df[0] == breach_date].reset_index(drop=True)\n",
    "            \n",
    "            if not cb_txn_df.empty:\n",
    "                flag = 1\n",
    "                trans_type = cb_txn_df.at[0,5]\n",
    "                current_stock = cb_txn_df.at[0,7]\n",
    "                current_amount = cb_txn_df.at[0,6]*cb_txn_df.at[0,7]\n",
    "                if cb_txn_df.at[0,4] in company_to_cat:\n",
    "                    current_c = company_to_cat[cb_txn_df.at[0,4]]\n",
    "                else:\n",
    "                    current_c = 6\n",
    "                company_type = cb_txn_df.at[0,3]\n",
    "                \n",
    "            if flag == 0:\n",
    "                trans_type = 0 \n",
    "                current_amount = float('nan')\n",
    "                current_c = float('nan')\n",
    "                company_type = 'H'\n",
    "        else:\n",
    "            if not c_txn_df.empty:\n",
    "                flag = 1\n",
    "                trans_type = c_txn_df.at[0,5]\n",
    "                current_stock = c_txn_df.at[0,7]\n",
    "                current_amount = c_txn_df.at[0,6]*c_txn_df.at[0,7]\n",
    "                if c_txn_df.at[0,4] in company_to_cat:\n",
    "                    current_c = company_to_cat[c_txn_df.at[0,4]]\n",
    "                else:\n",
    "                    current_c = 6\n",
    "                company_type = c_txn_df.at[0,3]\n",
    "    \n",
    "    # pass the cust that make less than n transaction\n",
    "    if num < 3 and breach_ind == 0:\n",
    "        continue\n",
    "        \n",
    "    if num == 0 and breach_ind == 1:\n",
    "        num = 1 # avoid error 'divided by 0'\n",
    "        \n",
    "    avg_stock = stock/num\n",
    "    avg_amount = amount/num  \n",
    "    \n",
    "                \n",
    "    # source code to 1 2 \n",
    "    if source_code == 'A':\n",
    "        source_code = 1\n",
    "    elif source_code == 'B':\n",
    "        source_code = 2\n",
    "        \n",
    "    # fill data\n",
    "    df.loc[i] = [cust,\n",
    "                 age_level, \n",
    "                 investment_exp_code, \n",
    "                 source_code,\n",
    "                 types['0'], types['1'], types['2'], types['5'], types['9'], types['A'], trans_type,\n",
    "                 com_types[0],com_types[1],com_types[2],com_types[3],com_types[4],com_types[5],com_types[6],current_c,\n",
    "                 HOR['H'],HOR['O'],HOR['R'],company_type,\n",
    "                 avg_stock,current_stock,\n",
    "                 avg_amount, current_amount,\n",
    "                 breach_ind]\n",
    "    \n",
    "    \n",
    "#3235/105770   "
   ]
  },
  {
   "cell_type": "code",
   "execution_count": null,
   "id": "0d84571a-0776-46fb-9739-57b1b1887e2f",
   "metadata": {},
   "outputs": [],
   "source": [
    "df = df.reset_index(drop=True)\n",
    "df.to_csv('data.csv')"
   ]
  },
  {
   "cell_type": "code",
   "execution_count": null,
   "id": "8e288238-a61b-4687-a0b5-d486618470d1",
   "metadata": {},
   "outputs": [],
   "source": [
    "df.head(10)"
   ]
  },
  {
   "cell_type": "markdown",
   "id": "942e716d-e308-4f7c-b31a-9eacf7f8307a",
   "metadata": {},
   "source": [
    "# Processing miss value"
   ]
  },
  {
   "cell_type": "code",
   "execution_count": null,
   "id": "e51f64ba-9928-4708-9c82-f58808a2fd5d",
   "metadata": {},
   "outputs": [],
   "source": [
    "df = read_csv('data.csv')"
   ]
  },
  {
   "cell_type": "code",
   "execution_count": null,
   "id": "eaf44609-496b-4adf-9421-a1354a3f2f03",
   "metadata": {},
   "outputs": [],
   "source": [
    "breach_df = df.loc[df['label'] == 1]\n",
    "non_breach_df = df.loc[df['label'] == 0]"
   ]
  },
  {
   "cell_type": "markdown",
   "id": "db0791cf-ee66-46db-989e-1373820f7c85",
   "metadata": {},
   "source": [
    "# feature analyze "
   ]
  },
  {
   "cell_type": "code",
   "execution_count": null,
   "id": "da8848c4-4512-4ab1-b02f-519d73a2530d",
   "metadata": {},
   "outputs": [],
   "source": [
    "his_df = pd.DataFrame()\n",
    "\n",
    "# his_df['1'] = breach_df.c6\t\n",
    "his_df['0'] = non_breach_df.c6\t\n",
    "\n",
    "ax = his_df.plot.hist(bins=12, alpha=0.5)"
   ]
  },
  {
   "cell_type": "code",
   "execution_count": null,
   "id": "b6d07938-58e2-4695-99fa-f5ce4ab9e5c4",
   "metadata": {},
   "outputs": [],
   "source": []
  }
 ],
 "metadata": {
  "kernelspec": {
   "display_name": "Python 3",
   "language": "python",
   "name": "python3"
  },
  "language_info": {
   "codemirror_mode": {
    "name": "ipython",
    "version": 3
   },
   "file_extension": ".py",
   "mimetype": "text/x-python",
   "name": "python",
   "nbconvert_exporter": "python",
   "pygments_lexer": "ipython3",
   "version": "3.7.10"
  }
 },
 "nbformat": 4,
 "nbformat_minor": 5
}
